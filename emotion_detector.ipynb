{
 "cells": [
  {
   "cell_type": "code",
   "execution_count": 142,
   "id": "252b1860-503a-4e31-93c4-da91f93147bc",
   "metadata": {},
   "outputs": [
    {
     "name": "stdout",
     "output_type": "stream",
     "text": [
      "The autoreload extension is already loaded. To reload it, use:\n",
      "  %reload_ext autoreload\n"
     ]
    }
   ],
   "source": [
    "%load_ext autoreload\n",
    "%autoreload 2\n",
    "\n",
    "import os\n",
    "import dlib\n",
    "import imutils\n",
    "import cv2\n",
    "import argparse\n",
    "\n",
    "import math\n",
    "import matplotlib.pyplot as plt\n",
    "import numpy as np\n",
    "import pandas as pd\n",
    "\n",
    "\n",
    "from find_eyes import find_eyes_from_image\n",
    "from find_mouth_curve import find_mouth_curve_from_image"
   ]
  },
  {
   "cell_type": "code",
   "execution_count": 152,
   "id": "adc26c5a-2db8-44d3-acf7-6cbddf259518",
   "metadata": {},
   "outputs": [],
   "source": [
    "directory = 'cropped/'\n",
    "\n",
    "num_subjects = 15\n",
    "\n",
    "images = []\n",
    "emotions = []"
   ]
  },
  {
   "cell_type": "code",
   "execution_count": 157,
   "id": "afef2899-6220-4f7a-b88b-59e288af00e1",
   "metadata": {},
   "outputs": [
    {
     "name": "stdout",
     "output_type": "stream",
     "text": [
      "cropped/subject05_happy_cropped.png\n",
      "error, skipping image\n",
      "cropped/subject06_happy_cropped.png\n",
      "error, skipping image\n",
      "cropped/subject10_happy_cropped.png\n",
      "error, skipping image\n",
      "cropped/subject11_happy_cropped.png\n",
      "error, skipping image\n",
      "cropped/subject14_happy_cropped.png\n",
      "error, skipping image\n"
     ]
    }
   ],
   "source": [
    "for i in range(1, num_subjects):\n",
    "    if (i < 10 ):\n",
    "        if (i != 4):\n",
    "            im_file = directory + 'subject' + '0' + str(i) + '_happy_cropped.png'\n",
    "            \n",
    "            try:\n",
    "                emotion = find_mouth_curve_from_image(im_file)\n",
    "            except:\n",
    "                print(im_file)\n",
    "                print(\"error, skipping image\")\n",
    "                continue\n",
    "\n",
    "            im_name = 'subject' + '0' + str(i) + '_happy_cropped.png'\n",
    "            images.append(im_name)\n",
    "            \n",
    "            # print(emotion)\n",
    "            emotions.append(emotion)\n",
    "    else:\n",
    "        im_file = directory + 'subject' + str(i) + '_happy_cropped.png'\n",
    "        \n",
    "        try:\n",
    "            emotion = find_mouth_curve_from_image(im_file)\n",
    "        except:\n",
    "            print(im_file)\n",
    "            print(\"error, skipping image\")\n",
    "            continue\n",
    "\n",
    "        im_name = 'subject' + str(i) + '_happy_cropped.png'\n",
    "        images.append(im_name)\n",
    "        \n",
    "        # print(emotion)\n",
    "        emotions.append(emotion)\n",
    "\n",
    "# print(images)\n",
    "# print(emotions)"
   ]
  },
  {
   "cell_type": "code",
   "execution_count": 156,
   "id": "bcdf4ecf-4560-4cdb-a41c-d2d976b9f398",
   "metadata": {},
   "outputs": [
    {
     "name": "stdout",
     "output_type": "stream",
     "text": [
      "cropped/subject04_sad_cropped.png\n",
      "error, skipping image\n",
      "cropped/subject07_sad_cropped.png\n",
      "error, skipping image\n",
      "cropped/subject10_sad_cropped.png\n",
      "error, skipping image\n",
      "cropped/subject14_sad_cropped.png\n",
      "error, skipping image\n"
     ]
    }
   ],
   "source": [
    "for i in range(1, num_subjects):\n",
    "    if (i < 10 ):\n",
    "        im_file = directory + 'subject' + '0' + str(i) + '_sad_cropped.png'\n",
    "            \n",
    "        try:\n",
    "            emotion = find_mouth_curve_from_image(im_file)\n",
    "        except:\n",
    "            print(im_file)\n",
    "            print(\"error, skipping image\")\n",
    "            continue\n",
    "\n",
    "        im_name = 'subject' + '0' + str(i) + '_sad_cropped.png'\n",
    "        images.append(im_name)\n",
    "            \n",
    "        # print(emotion)\n",
    "        emotions.append(emotion)\n",
    "    else:\n",
    "        im_file = directory + 'subject' + str(i) + '_sad_cropped.png'\n",
    "        \n",
    "        try:\n",
    "            emotion = find_mouth_curve_from_image(im_file)\n",
    "        except:\n",
    "            print(im_file)\n",
    "            print(\"error, skipping image\")\n",
    "            continue\n",
    "\n",
    "        im_name = 'subject' + str(i) + '_sad_cropped.png'\n",
    "        images.append(im_name)\n",
    "        \n",
    "        #print(emotion)\n",
    "        emotions.append(emotion)\n",
    "\n",
    "# print(images)\n",
    "# print(emotions)"
   ]
  },
  {
   "cell_type": "code",
   "execution_count": 153,
   "id": "8d3d5e17-e5c4-4ac2-98cc-09ecf7168519",
   "metadata": {},
   "outputs": [
    {
     "name": "stdout",
     "output_type": "stream",
     "text": [
      "cropped/subject04_normal_cropped.png\n",
      "error, skipping image\n",
      "cropped/subject05_normal_cropped.png\n",
      "error, skipping image\n",
      "cropped/subject07_normal_cropped.png\n",
      "error, skipping image\n",
      "cropped/subject13_normal_cropped.png\n",
      "error, skipping image\n"
     ]
    }
   ],
   "source": [
    "for i in range(1, num_subjects):\n",
    "    if (i < 10 ):\n",
    "        im_file = directory + 'subject' + '0' + str(i) + '_normal_cropped.png'\n",
    "            \n",
    "        try:\n",
    "            emotion = find_mouth_curve_from_image(im_file)\n",
    "        except:\n",
    "            print(im_file)\n",
    "            print(\"error, skipping image\")\n",
    "            continue\n",
    "\n",
    "        im_name = 'subject' + '0' + str(i) + '_normal_cropped.png'\n",
    "        images.append(im_name)\n",
    "            \n",
    "        # print(emotion)\n",
    "        emotions.append(emotion)\n",
    "    else:\n",
    "        im_file = directory + 'subject' + str(i) + '_normal_cropped.png'\n",
    "        \n",
    "        try:\n",
    "            emotion = find_mouth_curve_from_image(im_file)\n",
    "        except:\n",
    "            print(im_file)\n",
    "            print(\"error, skipping image\")\n",
    "            continue\n",
    "\n",
    "        im_name = 'subject' + str(i) + '_normal_cropped.png'\n",
    "        images.append(im_name)\n",
    "        \n",
    "        # print(emotion)\n",
    "        emotions.append(emotion)\n",
    "\n",
    "# print(images)\n",
    "# print(emotions)"
   ]
  },
  {
   "cell_type": "code",
   "execution_count": 154,
   "id": "2195a8d7-633a-41d6-9cd2-c43e6ec496d9",
   "metadata": {},
   "outputs": [],
   "source": [
    "df = pd.DataFrame.from_dict({'images':images, 'emotions':emotions})\n",
    "df.to_csv(\"new_results.csv\")"
   ]
  },
  {
   "cell_type": "code",
   "execution_count": 155,
   "id": "d2578b36-ca75-407c-b9d7-b43bc23bcda3",
   "metadata": {},
   "outputs": [
    {
     "data": {
      "text/html": [
       "<div>\n",
       "<style scoped>\n",
       "    .dataframe tbody tr th:only-of-type {\n",
       "        vertical-align: middle;\n",
       "    }\n",
       "\n",
       "    .dataframe tbody tr th {\n",
       "        vertical-align: top;\n",
       "    }\n",
       "\n",
       "    .dataframe thead th {\n",
       "        text-align: right;\n",
       "    }\n",
       "</style>\n",
       "<table border=\"1\" class=\"dataframe\">\n",
       "  <thead>\n",
       "    <tr style=\"text-align: right;\">\n",
       "      <th></th>\n",
       "      <th>images</th>\n",
       "      <th>emotions</th>\n",
       "    </tr>\n",
       "  </thead>\n",
       "  <tbody>\n",
       "    <tr>\n",
       "      <th>0</th>\n",
       "      <td>subject01_normal_cropped.png</td>\n",
       "      <td>neutral</td>\n",
       "    </tr>\n",
       "    <tr>\n",
       "      <th>1</th>\n",
       "      <td>subject02_normal_cropped.png</td>\n",
       "      <td>neutral</td>\n",
       "    </tr>\n",
       "    <tr>\n",
       "      <th>2</th>\n",
       "      <td>subject03_normal_cropped.png</td>\n",
       "      <td>neutral</td>\n",
       "    </tr>\n",
       "    <tr>\n",
       "      <th>3</th>\n",
       "      <td>subject06_normal_cropped.png</td>\n",
       "      <td>neutral</td>\n",
       "    </tr>\n",
       "    <tr>\n",
       "      <th>4</th>\n",
       "      <td>subject08_normal_cropped.png</td>\n",
       "      <td>neutral</td>\n",
       "    </tr>\n",
       "    <tr>\n",
       "      <th>5</th>\n",
       "      <td>subject09_normal_cropped.png</td>\n",
       "      <td>happiness</td>\n",
       "    </tr>\n",
       "    <tr>\n",
       "      <th>6</th>\n",
       "      <td>subject10_normal_cropped.png</td>\n",
       "      <td>neutral</td>\n",
       "    </tr>\n",
       "    <tr>\n",
       "      <th>7</th>\n",
       "      <td>subject11_normal_cropped.png</td>\n",
       "      <td>happiness</td>\n",
       "    </tr>\n",
       "    <tr>\n",
       "      <th>8</th>\n",
       "      <td>subject12_normal_cropped.png</td>\n",
       "      <td>happiness</td>\n",
       "    </tr>\n",
       "    <tr>\n",
       "      <th>9</th>\n",
       "      <td>subject14_normal_cropped.png</td>\n",
       "      <td>neutral</td>\n",
       "    </tr>\n",
       "  </tbody>\n",
       "</table>\n",
       "</div>"
      ],
      "text/plain": [
       "                         images   emotions\n",
       "0  subject01_normal_cropped.png    neutral\n",
       "1  subject02_normal_cropped.png    neutral\n",
       "2  subject03_normal_cropped.png    neutral\n",
       "3  subject06_normal_cropped.png    neutral\n",
       "4  subject08_normal_cropped.png    neutral\n",
       "5  subject09_normal_cropped.png  happiness\n",
       "6  subject10_normal_cropped.png    neutral\n",
       "7  subject11_normal_cropped.png  happiness\n",
       "8  subject12_normal_cropped.png  happiness\n",
       "9  subject14_normal_cropped.png    neutral"
      ]
     },
     "execution_count": 155,
     "metadata": {},
     "output_type": "execute_result"
    }
   ],
   "source": [
    "df"
   ]
  },
  {
   "cell_type": "code",
   "execution_count": null,
   "id": "96174150-ca44-43b5-8ffb-feef0e344e3a",
   "metadata": {},
   "outputs": [],
   "source": []
  }
 ],
 "metadata": {
  "kernelspec": {
   "display_name": "Python 3 (ipykernel)",
   "language": "python",
   "name": "python3"
  },
  "language_info": {
   "codemirror_mode": {
    "name": "ipython",
    "version": 3
   },
   "file_extension": ".py",
   "mimetype": "text/x-python",
   "name": "python",
   "nbconvert_exporter": "python",
   "pygments_lexer": "ipython3",
   "version": "3.11.7"
  }
 },
 "nbformat": 4,
 "nbformat_minor": 5
}
