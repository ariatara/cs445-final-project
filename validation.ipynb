{
 "cells": [
  {
   "cell_type": "code",
   "execution_count": 2,
   "id": "af8fbea5",
   "metadata": {},
   "outputs": [],
   "source": [
    "import cv2\n",
    "import matplotlib.pyplot as plt\n",
    "import numpy as np\n",
    "from find_eyes import find_eyes\n",
    "import pandas as pd"
   ]
  },
  {
   "cell_type": "code",
   "execution_count": 9,
   "id": "155b7550",
   "metadata": {},
   "outputs": [
    {
     "data": {
      "text/html": [
       "<div>\n",
       "<style scoped>\n",
       "    .dataframe tbody tr th:only-of-type {\n",
       "        vertical-align: middle;\n",
       "    }\n",
       "\n",
       "    .dataframe tbody tr th {\n",
       "        vertical-align: top;\n",
       "    }\n",
       "\n",
       "    .dataframe thead th {\n",
       "        text-align: right;\n",
       "    }\n",
       "</style>\n",
       "<table border=\"1\" class=\"dataframe\">\n",
       "  <thead>\n",
       "    <tr style=\"text-align: right;\">\n",
       "      <th></th>\n",
       "      <th>images</th>\n",
       "      <th>pyfeat</th>\n",
       "      <th>accurate</th>\n",
       "    </tr>\n",
       "  </thead>\n",
       "  <tbody>\n",
       "    <tr>\n",
       "      <th>0</th>\n",
       "      <td>happy.png</td>\n",
       "      <td>happiness</td>\n",
       "      <td>0</td>\n",
       "    </tr>\n",
       "    <tr>\n",
       "      <th>1</th>\n",
       "      <td>sad.png</td>\n",
       "      <td>surprise</td>\n",
       "      <td>0</td>\n",
       "    </tr>\n",
       "    <tr>\n",
       "      <th>2</th>\n",
       "      <td>normal.png</td>\n",
       "      <td>neutral</td>\n",
       "      <td>0</td>\n",
       "    </tr>\n",
       "  </tbody>\n",
       "</table>\n",
       "</div>"
      ],
      "text/plain": [
       "       images     pyfeat  accurate\n",
       "0   happy.png  happiness         0\n",
       "1     sad.png   surprise         0\n",
       "2  normal.png    neutral         0"
      ]
     },
     "execution_count": 9,
     "metadata": {},
     "output_type": "execute_result"
    }
   ],
   "source": [
    "#COMPUTE ACCURACY FOR PY-FEAT METHOD\n",
    "# df = pd.read_csv(\"pyfeat.csv\")\n",
    "df = pd.DataFrame.from_dict({'images': ['happy.png', 'sad.png', 'normal.png'], 'pyfeat': ['happiness', 'surprise', 'neutral']})\n",
    "df[\"accurate\"] = 0\n",
    "df"
   ]
  },
  {
   "cell_type": "code",
   "execution_count": 10,
   "id": "57cc1ddf",
   "metadata": {},
   "outputs": [],
   "source": [
    "for row in range(len(df)):\n",
    "    emotion = df.loc[row, 'pyfeat']\n",
    "    name = df.loc[row, 'images']\n",
    "    if ('happiness' in emotion) and ('happy' in name):\n",
    "         df.loc[row, 'accurate'] = 1\n",
    "    if ('sadness' in emotion) and ('sad' in name):\n",
    "         df.loc[row, 'accurate'] = 1\n",
    "    if ('neutral' in emotion) and ('normal' in name):\n",
    "         df.loc[row, 'accurate'] = 1"
   ]
  },
  {
   "cell_type": "code",
   "execution_count": 11,
   "id": "98b7ef28",
   "metadata": {},
   "outputs": [
    {
     "data": {
      "text/html": [
       "<div>\n",
       "<style scoped>\n",
       "    .dataframe tbody tr th:only-of-type {\n",
       "        vertical-align: middle;\n",
       "    }\n",
       "\n",
       "    .dataframe tbody tr th {\n",
       "        vertical-align: top;\n",
       "    }\n",
       "\n",
       "    .dataframe thead th {\n",
       "        text-align: right;\n",
       "    }\n",
       "</style>\n",
       "<table border=\"1\" class=\"dataframe\">\n",
       "  <thead>\n",
       "    <tr style=\"text-align: right;\">\n",
       "      <th></th>\n",
       "      <th>images</th>\n",
       "      <th>pyfeat</th>\n",
       "      <th>accurate</th>\n",
       "    </tr>\n",
       "  </thead>\n",
       "  <tbody>\n",
       "    <tr>\n",
       "      <th>0</th>\n",
       "      <td>happy.png</td>\n",
       "      <td>happiness</td>\n",
       "      <td>1</td>\n",
       "    </tr>\n",
       "    <tr>\n",
       "      <th>1</th>\n",
       "      <td>sad.png</td>\n",
       "      <td>surprise</td>\n",
       "      <td>0</td>\n",
       "    </tr>\n",
       "    <tr>\n",
       "      <th>2</th>\n",
       "      <td>normal.png</td>\n",
       "      <td>neutral</td>\n",
       "      <td>1</td>\n",
       "    </tr>\n",
       "  </tbody>\n",
       "</table>\n",
       "</div>"
      ],
      "text/plain": [
       "       images     pyfeat  accurate\n",
       "0   happy.png  happiness         1\n",
       "1     sad.png   surprise         0\n",
       "2  normal.png    neutral         1"
      ]
     },
     "execution_count": 11,
     "metadata": {},
     "output_type": "execute_result"
    }
   ],
   "source": [
    "df"
   ]
  },
  {
   "cell_type": "code",
   "execution_count": 14,
   "id": "6dc39171",
   "metadata": {},
   "outputs": [],
   "source": [
    "happy_df = df[df['images'].str.contains(\"happy\")]\n",
    "sad_df = df[df['images'].str.contains(\"sad\")]\n",
    "normal_df = df[df['images'].str.contains(\"normal\")]"
   ]
  },
  {
   "cell_type": "code",
   "execution_count": 21,
   "id": "f7601ae5",
   "metadata": {},
   "outputs": [],
   "source": [
    "happy_accuracy = sum(happy_df['accurate']) / len(happy_df['accurate'])\n",
    "sad_accuracy = sum(sad_df['accurate']) / len(sad_df['accurate'])\n",
    "normal_accuracy = sum(normal_df['accurate']) / len(normal_df['accurate'])\n",
    "pyfeat_accuracy = sum(df['accurate']) / len(df['accurate'])"
   ]
  },
  {
   "cell_type": "code",
   "execution_count": 17,
   "id": "aa5df438",
   "metadata": {},
   "outputs": [
    {
     "data": {
      "text/plain": [
       "1.0"
      ]
     },
     "execution_count": 17,
     "metadata": {},
     "output_type": "execute_result"
    }
   ],
   "source": [
    "happy_accuracy"
   ]
  },
  {
   "cell_type": "code",
   "execution_count": 30,
   "id": "354d1d80",
   "metadata": {
    "scrolled": false
   },
   "outputs": [
    {
     "data": {
      "image/png": "[encoded data removed]",
      "text/plain": [
       "<Figure size 432x288 with 1 Axes>"
      ]
     },
     "metadata": {
      "needs_background": "light"
     },
     "output_type": "display_data"
    }
   ],
   "source": [
    "fig, ax = plt.subplots()\n",
    "\n",
    "names = ['Happy', 'Sad', 'Normal']\n",
    "counts = [happy_accuracy, sad_accuracy, normal_accuracy]\n",
    "bar_colors = ['tab:red', 'tab:blue','tab:orange']\n",
    "\n",
    "ax.bar(names, counts, label=names, color=bar_colors)\n",
    "\n",
    "ax.set_ylabel('Accuracy')\n",
    "\n",
    "ax.set_xlabel('Labeled Expression')\n",
    "ax.set_title('Py-Feat Accuracy by Emotion')\n",
    "\n",
    "plt.show()"
   ]
  },
  {
   "cell_type": "code",
   "execution_count": 9,
   "id": "024aeeda",
   "metadata": {},
   "outputs": [
    {
     "data": {
      "text/html": [
       "<div>\n",
       "<style scoped>\n",
       "    .dataframe tbody tr th:only-of-type {\n",
       "        vertical-align: middle;\n",
       "    }\n",
       "\n",
       "    .dataframe tbody tr th {\n",
       "        vertical-align: top;\n",
       "    }\n",
       "\n",
       "    .dataframe thead th {\n",
       "        text-align: right;\n",
       "    }\n",
       "</style>\n",
       "<table border=\"1\" class=\"dataframe\">\n",
       "  <thead>\n",
       "    <tr style=\"text-align: right;\">\n",
       "      <th></th>\n",
       "      <th>images</th>\n",
       "      <th>pyfeat</th>\n",
       "      <th>accurate</th>\n",
       "    </tr>\n",
       "  </thead>\n",
       "  <tbody>\n",
       "    <tr>\n",
       "      <th>0</th>\n",
       "      <td>happy.png</td>\n",
       "      <td>happiness</td>\n",
       "      <td>0</td>\n",
       "    </tr>\n",
       "    <tr>\n",
       "      <th>1</th>\n",
       "      <td>sad.png</td>\n",
       "      <td>surprise</td>\n",
       "      <td>0</td>\n",
       "    </tr>\n",
       "    <tr>\n",
       "      <th>2</th>\n",
       "      <td>normal.png</td>\n",
       "      <td>neutral</td>\n",
       "      <td>0</td>\n",
       "    </tr>\n",
       "  </tbody>\n",
       "</table>\n",
       "</div>"
      ],
      "text/plain": [
       "       images     pyfeat  accurate\n",
       "0   happy.png  happiness         0\n",
       "1     sad.png   surprise         0\n",
       "2  normal.png    neutral         0"
      ]
     },
     "execution_count": 9,
     "metadata": {},
     "output_type": "execute_result"
    }
   ],
   "source": [
    "# SAME THING BUT WITH OUR NEW METHOD\n",
    "df = pd.DataFrame.from_dict({'images': ['happy.png', 'sad.png', 'normal.png'], 'pyfeat': ['happiness', 'surprise', 'neutral']})\n",
    "df[\"accurate\"] = 0\n",
    "df"
   ]
  },
  {
   "cell_type": "code",
   "execution_count": 10,
   "id": "ed676f4b",
   "metadata": {},
   "outputs": [],
   "source": [
    "for row in range(len(df)):\n",
    "    emotion = df.loc[row, 'pyfeat']\n",
    "    name = df.loc[row, 'images']\n",
    "    if ('happiness' in emotion) and ('happy' in name):\n",
    "         df.loc[row, 'accurate'] = 1\n",
    "    if ('sadness' in emotion) and ('sad' in name):\n",
    "         df.loc[row, 'accurate'] = 1\n",
    "    if ('neutral' in emotion) and ('normal' in name):\n",
    "         df.loc[row, 'accurate'] = 1"
   ]
  },
  {
   "cell_type": "code",
   "execution_count": 11,
   "id": "468f9551",
   "metadata": {},
   "outputs": [
    {
     "data": {
      "text/html": [
       "<div>\n",
       "<style scoped>\n",
       "    .dataframe tbody tr th:only-of-type {\n",
       "        vertical-align: middle;\n",
       "    }\n",
       "\n",
       "    .dataframe tbody tr th {\n",
       "        vertical-align: top;\n",
       "    }\n",
       "\n",
       "    .dataframe thead th {\n",
       "        text-align: right;\n",
       "    }\n",
       "</style>\n",
       "<table border=\"1\" class=\"dataframe\">\n",
       "  <thead>\n",
       "    <tr style=\"text-align: right;\">\n",
       "      <th></th>\n",
       "      <th>images</th>\n",
       "      <th>pyfeat</th>\n",
       "      <th>accurate</th>\n",
       "    </tr>\n",
       "  </thead>\n",
       "  <tbody>\n",
       "    <tr>\n",
       "      <th>0</th>\n",
       "      <td>happy.png</td>\n",
       "      <td>happiness</td>\n",
       "      <td>1</td>\n",
       "    </tr>\n",
       "    <tr>\n",
       "      <th>1</th>\n",
       "      <td>sad.png</td>\n",
       "      <td>surprise</td>\n",
       "      <td>0</td>\n",
       "    </tr>\n",
       "    <tr>\n",
       "      <th>2</th>\n",
       "      <td>normal.png</td>\n",
       "      <td>neutral</td>\n",
       "      <td>1</td>\n",
       "    </tr>\n",
       "  </tbody>\n",
       "</table>\n",
       "</div>"
      ],
      "text/plain": [
       "       images     pyfeat  accurate\n",
       "0   happy.png  happiness         1\n",
       "1     sad.png   surprise         0\n",
       "2  normal.png    neutral         1"
      ]
     },
     "execution_count": 11,
     "metadata": {},
     "output_type": "execute_result"
    }
   ],
   "source": [
    "df"
   ]
  },
  {
   "cell_type": "code",
   "execution_count": 14,
   "id": "b2a96d54",
   "metadata": {},
   "outputs": [],
   "source": [
    "happy_df = df[df['images'].str.contains(\"happy\")]\n",
    "sad_df = df[df['images'].str.contains(\"sad\")]\n",
    "normal_df = df[df['images'].str.contains(\"normal\")]"
   ]
  },
  {
   "cell_type": "code",
   "execution_count": 21,
   "id": "3b177bd1",
   "metadata": {},
   "outputs": [],
   "source": [
    "happy_accuracy = sum(happy_df['accurate']) / len(happy_df['accurate'])\n",
    "sad_accuracy = sum(sad_df['accurate']) / len(sad_df['accurate'])\n",
    "normal_accuracy = sum(normal_df['accurate']) / len(normal_df['accurate'])\n",
    "new_accuracy = sum(df['accurate']) / len(df['accurate'])"
   ]
  },
  {
   "cell_type": "code",
   "execution_count": 17,
   "id": "72fb221d",
   "metadata": {},
   "outputs": [
    {
     "data": {
      "text/plain": [
       "1.0"
      ]
     },
     "execution_count": 17,
     "metadata": {},
     "output_type": "execute_result"
    }
   ],
   "source": [
    "happy_accuracy"
   ]
  },
  {
   "cell_type": "code",
   "execution_count": 31,
   "id": "4ac5d8b7",
   "metadata": {
    "scrolled": false
   },
   "outputs": [
    {
     "data": {
      "image/png": "[encoded data removed]",
      "text/plain": [
       "<Figure size 432x288 with 1 Axes>"
      ]
     },
     "metadata": {
      "needs_background": "light"
     },
     "output_type": "display_data"
    }
   ],
   "source": [
    "fig, ax = plt.subplots()\n",
    "\n",
    "names = ['Happy', 'Sad', 'Normal']\n",
    "counts = [happy_accuracy, sad_accuracy, normal_accuracy]\n",
    "bar_colors = ['tab:red', 'tab:blue','tab:orange']\n",
    "\n",
    "ax.bar(names, counts, label=names, color=bar_colors)\n",
    "\n",
    "ax.set_ylabel('Accuracy')\n",
    "\n",
    "ax.set_xlabel('Labeled Expression')\n",
    "ax.set_title('Our Accuracy by Emotion')\n",
    "\n",
    "plt.show()"
   ]
  },
  {
   "cell_type": "code",
   "execution_count": 27,
   "id": "09963214",
   "metadata": {},
   "outputs": [
    {
     "data": {
      "image/png": "[encoded data removed]",
      "text/plain": [
       "<Figure size 432x288 with 1 Axes>"
      ]
     },
     "metadata": {
      "needs_background": "light"
     },
     "output_type": "display_data"
    }
   ],
   "source": [
    "# Overall Accuracy Comparison\n",
    "\n",
    "fig, ax = plt.subplots()\n",
    "\n",
    "names = ['Py-Feat', 'Our Method']\n",
    "counts = [pyfeat_accuracy, new_accuracy]\n",
    "bar_colors = ['tab:red', 'tab:blue']\n",
    "\n",
    "ax.bar(names, counts, label=names, color=bar_colors, width=0.4)\n",
    "\n",
    "ax.set_ylabel('Emotion')\n",
    "ax.set_title('Py-Feat vs Our Method Accuracy')\n",
    "\n",
    "plt.show()"
   ]
  },
  {
   "cell_type": "code",
   "execution_count": null,
   "id": "c071a9d7",
   "metadata": {},
   "outputs": [],
   "source": []
  }
 ],
 "metadata": {
  "kernelspec": {
   "display_name": "Python 3",
   "language": "python",
   "name": "python3"
  },
  "language_info": {
   "codemirror_mode": {
    "name": "ipython",
    "version": 3
   },
   "file_extension": ".py",
   "mimetype": "text/x-python",
   "name": "python",
   "nbconvert_exporter": "python",
   "pygments_lexer": "ipython3",
   "version": "3.6.15"
  }
 },
 "nbformat": 4,
 "nbformat_minor": 5
}
